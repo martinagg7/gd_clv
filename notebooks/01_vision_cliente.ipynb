{
 "cells": [
  {
   "cell_type": "code",
   "execution_count": 2,
   "metadata": {},
   "outputs": [
    {
     "name": "stdout",
     "output_type": "stream",
     "text": [
      "Ejecutando vision_cliente.sql en la base local...\n"
     ]
    },
    {
     "name": "stderr",
     "output_type": "stream",
     "text": [
      "C:\\Users\\marti\\AppData\\Local\\Temp\\ipykernel_7544\\41592720.py:26: UserWarning: pandas only supports SQLAlchemy connectable (engine/connection) or database string URI or sqlite3 DBAPI2 connection. Other DBAPI2 objects are not tested. Please consider using SQLAlchemy.\n",
      "  df = pd.read_sql(vision_query, conn_local)\n"
     ]
    },
    {
     "name": "stdout",
     "output_type": "stream",
     "text": [
      "Datos extraídos: 44053 filas.\n",
      "Tabla 'vision_cliente' creada correctamente.\n",
      "44053 filas insertadas en 'vision_cliente'.\n",
      "\n",
      "¡Proceso completado!\n"
     ]
    }
   ],
   "source": [
    "import os\n",
    "import pyodbc\n",
    "import pandas as pd\n",
    "import numpy as np\n",
    "\n",
    "# Ajusta estos parámetros a tu servidor local\n",
    "LOCAL_SERVER = 'localhost'\n",
    "LOCAL_DATABASE = 'dwh_case1'\n",
    "LOCAL_DRIVER = '{ODBC Driver 17 for SQL Server}'\n",
    "local_conn_str = f\"DRIVER={LOCAL_DRIVER};SERVER={LOCAL_SERVER};DATABASE={LOCAL_DATABASE};Trusted_Connection=yes;TrustServerCertificate=yes\"\n",
    "\n",
    "# Conexión a la base de datos local\n",
    "conn_local = pyodbc.connect(local_conn_str)\n",
    "cursor_local = conn_local.cursor()\n",
    "\n",
    "# Ruta donde tengas tu archivo vision_cliente.sql\n",
    "queries_notebooks_path = os.path.join(os.getcwd(), \"queries_notebooks\")\n",
    "vision_cliente_file = os.path.join(queries_notebooks_path, \"vision_cliente.sql\")\n",
    "\n",
    "# 1. Leer la consulta desde vision_cliente.sql\n",
    "with open(vision_cliente_file, 'r', encoding='utf-8') as file:\n",
    "    vision_query = file.read()\n",
    "\n",
    "# 2. Ejecutar la consulta en SQL Server Local y obtener un DataFrame\n",
    "print(\"Ejecutando vision_cliente.sql en la base local...\")\n",
    "df = pd.read_sql(vision_query, conn_local)\n",
    "\n",
    "print(f\"Datos extraídos: {df.shape[0]} filas.\")\n",
    "\n",
    "# 3. Convertir NaN a 0 y ajustar tipos\n",
    "df = df.fillna(0)\n",
    "\n",
    "for col in df.select_dtypes(include=['float64']).columns:\n",
    "    df[col] = df[col].astype(np.float32)\n",
    "\n",
    "for col in df.select_dtypes(include=['int64']).columns:\n",
    "    df[col] = df[col].astype(np.int32)\n",
    "\n",
    "# 4. Crear la tabla 'vision_cliente' (borrar si ya existe)\n",
    "drop_table_sql = \"DROP TABLE IF EXISTS vision_cliente\"\n",
    "cursor_local.execute(drop_table_sql)\n",
    "conn_local.commit()\n",
    "\n",
    "# 5. Generar CREATE TABLE dinámico en base a los tipos del DataFrame\n",
    "create_table_sql = f\"\"\"\n",
    "CREATE TABLE vision_cliente (\n",
    "    {', '.join([\n",
    "        f'[{col}] FLOAT' if df[col].dtype == np.float32 \n",
    "        else f'[{col}] INT' if df[col].dtype == np.int32 \n",
    "        else f'[{col}] NVARCHAR(255)' for col in df.columns\n",
    "    ])}\n",
    ");\n",
    "\"\"\"\n",
    "cursor_local.execute(create_table_sql)\n",
    "conn_local.commit()\n",
    "\n",
    "print(\"Tabla 'vision_cliente' creada correctamente.\")\n",
    "\n",
    "# 6. Insertar los datos\n",
    "placeholders = ', '.join(['?' for _ in df.columns])\n",
    "insert_sql = f\"INSERT INTO vision_cliente VALUES ({placeholders})\"\n",
    "\n",
    "cursor_local.fast_executemany = True\n",
    "cursor_local.executemany(insert_sql, df.values.tolist())\n",
    "conn_local.commit()\n",
    "\n",
    "print(f\"{df.shape[0]} filas insertadas en 'vision_cliente'.\")\n",
    "\n",
    "# Cerrar conexiones\n",
    "conn_local.close()\n",
    "\n",
    "print(\"\\n¡Proceso completado!\")\n"
   ]
  }
 ],
 "metadata": {
  "kernelspec": {
   "display_name": "Python 3",
   "language": "python",
   "name": "python3"
  },
  "language_info": {
   "codemirror_mode": {
    "name": "ipython",
    "version": 3
   },
   "file_extension": ".py",
   "mimetype": "text/x-python",
   "name": "python",
   "nbconvert_exporter": "python",
   "pygments_lexer": "ipython3",
   "version": "3.12.6"
  }
 },
 "nbformat": 4,
 "nbformat_minor": 2
}
