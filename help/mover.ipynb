{
 "cells": [
  {
   "cell_type": "markdown",
   "metadata": {},
   "source": [
    "# Guía mover datos Azure-BBD Local"
   ]
  },
  {
   "cell_type": "code",
   "execution_count": 1,
   "metadata": {},
   "outputs": [
    {
     "name": "stdout",
     "output_type": "stream",
     "text": [
      "Collecting pyodbc\n",
      "  Downloading pyodbc-5.2.0-cp312-cp312-win_amd64.whl.metadata (2.8 kB)\n",
      "Downloading pyodbc-5.2.0-cp312-cp312-win_amd64.whl (69 kB)\n",
      "Installing collected packages: pyodbc\n",
      "Successfully installed pyodbc-5.2.0\n"
     ]
    }
   ],
   "source": [
    "! pip install pyodbc"
   ]
  },
  {
   "cell_type": "markdown",
   "metadata": {},
   "source": [
    "En el código de a continuación movemos una base de datos en la nube a una base de datos local (SQL Server Local)"
   ]
  },
  {
   "cell_type": "markdown",
   "metadata": {},
   "source": [
    "**Conceptos Importantes**\n",
    "- Servidor: es una ordenador  donde se almacenan bases de datos. Puede estar en la nube o en tu propia computadora.\n",
    "- Driver: programa que permite que python se comunique con una bbd.\n"
   ]
  },
  {
   "cell_type": "code",
   "execution_count": 2,
   "metadata": {},
   "outputs": [
    {
     "name": "stdout",
     "output_type": "stream",
     "text": [
      "Conectando a Azure SQL...\n",
      " Error: ('FA004', \"[FA004] [Microsoft][ODBC Driver 17 for SQL Server][SQL Server]Failed to authenticate the user '' in Active Directory (Authentication option is 'ActiveDirectoryInteractive').\\r\\nError code 0x4C7; state 10\\r\\nEl usuario ha cancelado la operación. (0) (SQLDriverConnect); [FA004] [Microsoft][ODBC Driver 17 for SQL Server][SQL Server]Failed to authenticate the user '' in Active Directory (Authentication option is 'ActiveDirectoryInteractive').\\r\\nError code 0x4C7; state 10\\r\\nEl usuario ha cancelado la operación. (0)\")\n",
      "\n",
      " ¡Proceso completado!\n"
     ]
    }
   ],
   "source": [
    "import pyodbc\n",
    "import pandas as pd\n",
    "import numpy as np\n",
    "\n",
    "#  Conexión a **Azure SQL**\n",
    "AZURE_SERVER = 'uaxmathfis.database.windows.net' #servidor al  nos conectaremos en azure\n",
    "AZURE_DATABASE = 'usecases' \n",
    "AZURE_DRIVER = '{ODBC Driver 17 for SQL Server}'  \n",
    "\n",
    "azure_conn_str = f\"DRIVER={AZURE_DRIVER};SERVER={AZURE_SERVER};DATABASE={AZURE_DATABASE};Authentication=ActiveDirectoryInteractive\"\n",
    "\n",
    "#  Conexión a **SQL Server LOCAL(Base datos PC)**\n",
    "LOCAL_SERVER = 'localhost' #servidor local\n",
    "LOCAL_DATABASE = 'dwh_case1' #base datos local\n",
    "LOCAL_DRIVER = '{ODBC Driver 17 for SQL Server}'\n",
    "\n",
    "# con este código nos estamos conectadn a sssm\n",
    "local_conn_str = f\"DRIVER={LOCAL_DRIVER};SERVER={LOCAL_SERVER};DATABASE={LOCAL_DATABASE};Trusted_Connection=yes;TrustServerCertificate=yes\"\n",
    "\n",
    "#  Consulta SQL en Azure SQL -Para extraer los daos de la nube\n",
    "SQL_QUERY = \"\"\"\n",
    "SELECT\n",
    "\"\"\"\n",
    "\n",
    "# Nombre de la tabla en SQL Server Local donde se van a gaurdar los datos que extreamos meidante la consulta\n",
    "NEW_TABLE_NAME = \"DATAEX.FACT_SALES\"\n",
    "\n",
    "try:\n",
    "    #  Conectar a Azure SQL\n",
    "    print(f\"Conectando a Azure SQL...\")\n",
    "    conn_azure = pyodbc.connect(azure_conn_str)\n",
    "    \n",
    "    # Ejecutar la consulta en Azure SQL y guardamos los datos en un dataframe\n",
    "    print(f\"Ejecutando consulta en Azure SQL...\")\n",
    "    df = pd.read_sql(SQL_QUERY, conn_azure) #dataframe con la tabla de la consulta\n",
    "\n",
    "    if df.empty:\n",
    "        print(f\" La consulta no devolvió resultados. No se creará la tabla en SQL Server Local.\")\n",
    "    else:\n",
    "        print(f\"   - Datos extraídos: {df.shape[0]} filas\") #rellenamos los valores con 0 para evitar errores\n",
    "\n",
    "\n",
    "\n",
    "        #  Convertir NaN en columnas numéricas a 0\n",
    "        df = df.fillna(0)\n",
    "\n",
    "        #  Convertir valores numéricos problemáticos\n",
    "        for col in df.select_dtypes(include=['float64']).columns:\n",
    "            df[col] = df[col].astype(np.float32)  #Para ahorrar memoeia\n",
    "        \n",
    "        for col in df.select_dtypes(include=['int64']).columns:\n",
    "            df[col] = df[col].astype(np.int32)  # Evitar valores fuera de rango\n",
    "        \n",
    "        #  Conectar a SQL Server Local\n",
    "        print(f\"Conectando a SQL Server Local...\")\n",
    "        conn_local = pyodbc.connect(local_conn_str)\n",
    "        \n",
    "        with conn_local.cursor() as cursor:\n",
    "            # Eliminar la tabla si ya existe(esto eviat errores por duplicados)\n",
    "            drop_table_sql = f\"DROP TABLE IF EXISTS {NEW_TABLE_NAME}\"\n",
    "            cursor.execute(drop_table_sql)\n",
    "            conn_local.commit()\n",
    "            print(f\"   - Tabla eliminada si existía.\")\n",
    "\n",
    "            #  Crear la tabla en SQL Server Local con tipos de datos ajustados \n",
    "            create_table_sql = f\"\"\"\n",
    "            CREATE TABLE {NEW_TABLE_NAME} (\n",
    "                {', '.join([\n",
    "                    f'[{col}] FLOAT' if df[col].dtype == np.float32 \n",
    "                    else f'[{col}] INT' if df[col].dtype == np.int32 \n",
    "                    else f'[{col}] NVARCHAR(255)' for col in df.columns\n",
    "                ])}\n",
    "            );\n",
    "            \"\"\"\n",
    "            cursor.execute(create_table_sql)\n",
    "            conn_local.commit()\n",
    "            print(f\" Tabla {NEW_TABLE_NAME} creada correctamente en SQL Server Local.\")\n",
    "\n",
    "            # Insertar los datos en SQL Server Local\n",
    "            placeholders = ', '.join(['?' for _ in df.columns]) #rellenar interrograciones para insterat datos\n",
    "            insert_sql = f\"INSERT INTO {NEW_TABLE_NAME} VALUES ({placeholders})\"\n",
    "\n",
    "            cursor.fast_executemany = True\n",
    "            cursor.executemany(insert_sql, df.values.tolist()) #crea una lista de listas con los valores de df y los rellena en base de datos en loca\n",
    "            conn_local.commit()\n",
    "\n",
    "            print(f\" {df.shape[0]} filas insertadas en {NEW_TABLE_NAME}.\")\n",
    "\n",
    "except Exception as e:\n",
    "    print(f\" Error: {e}\")\n",
    "\n",
    "finally:\n",
    "    if 'conn_azure' in locals():\n",
    "        conn_azure.close()\n",
    "    if 'conn_local' in locals():\n",
    "        conn_local.close()\n",
    "\n",
    "print(\"\\n ¡Proceso completado!\")\n"
   ]
  },
  {
   "cell_type": "markdown",
   "metadata": {},
   "source": [
    "**Aclaraciones Del Código**\n",
    "1. Los interrogantes se usan como marcadores de posiciones ,para posteriormente poder instar los valores d ela consulta en la tabla.(Evita la inyección en sql y hace la consulta más eficaz)\n",
    "2. Un driver ODBC es un software que permite que aplicaciones de terceros se comuniquen con bases de datos. Funciona como un puente entre una aplicación y un sistema de gestión de bases de datos.\n",
    "3. ¿ Por qué se insertan interrogaciones?\n",
    "\n",
    "    SELECT * FROM usuarios WHERE username = 'admin' -- ' AND password = 'cualquiercosa'(se acepta a admin sin verificar contra)\n",
    "\n",
    "    VS\n",
    "    \n",
    "    sql_query = \"SELECT * FROM usuarios WHERE username = ? AND password = ?\"\n",
    "\n",
    "\n",
    "\n"
   ]
  }
 ],
 "metadata": {
  "kernelspec": {
   "display_name": "Python 3",
   "language": "python",
   "name": "python3"
  },
  "language_info": {
   "codemirror_mode": {
    "name": "ipython",
    "version": 3
   },
   "file_extension": ".py",
   "mimetype": "text/x-python",
   "name": "python",
   "nbconvert_exporter": "python",
   "pygments_lexer": "ipython3",
   "version": "3.12.6"
  }
 },
 "nbformat": 4,
 "nbformat_minor": 2
}
