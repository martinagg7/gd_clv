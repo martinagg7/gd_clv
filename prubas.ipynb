{
 "cells": [
  {
   "cell_type": "code",
   "execution_count": 2,
   "metadata": {},
   "outputs": [],
   "source": [
    "import pandas as pd"
   ]
  },
  {
   "cell_type": "code",
   "execution_count": 5,
   "metadata": {},
   "outputs": [],
   "source": [
    "file_path = \"data/bi_cliente.csv\"\n",
    "df = pd.read_csv(file_path)\n"
   ]
  },
  {
   "cell_type": "code",
   "execution_count": 6,
   "metadata": {},
   "outputs": [
    {
     "data": {
      "text/plain": [
       "Index(['Customer_ID', 'Edad', 'RENTA_MEDIA_ESTIMADA', 'GENERO',\n",
       "       'Fecha_nacimiento', 'STATUS_SOCIAL', 'CODIGO_POSTAL', 'provincia',\n",
       "       'poblacion', 'lat', 'lon', 'Origen_Compra', 'Fue_Lead_Alguna_Vez',\n",
       "       'Numero_Veces_Lead', 'Total_Compras', 'Modelos_Comprados', 'PVP_Total',\n",
       "       'PVP_Medio', 'PVP_Diferencia', 'Dias_Entre_Primera_Ultima_Compra',\n",
       "       'Ultima_Compra', 'Dias_Desde_Ultima_Compra', 'Compra_Finde_O_Festivo',\n",
       "       'Edad_Media_Coche', 'Total_Revisiones', 'Km_Medio_por_Revision',\n",
       "       'Tuvo_Mantenimiento_Gratuito', 'Dias_Medio_En_Taller', 'Total_Quejas',\n",
       "       'Compra_Tienda_Unica', 'Contrato_Seguro_Bateria', 'Coste_Medio_Cliente',\n",
       "       'Margen_Bruto_Medio', 'Margen_eur_Medio', 'Rentabilidad_Relativa',\n",
       "       'Churn_Cliente', 'Dias_Medios_Desde_Ultima_Revision',\n",
       "       'churn_medio_estimado', 'retencion', 'CLV_5_anos'],\n",
       "      dtype='object')"
      ]
     },
     "execution_count": 6,
     "metadata": {},
     "output_type": "execute_result"
    }
   ],
   "source": [
    "df.columns"
   ]
  },
  {
   "cell_type": "markdown",
   "metadata": {},
   "source": [
    "Index(['Customer_ID', 'Edad', 'RENTA_MEDIA_ESTIMADA', 'GENERO',\n",
    "       'Fecha_nacimiento', 'STATUS_SOCIAL', 'CODIGO_POSTAL', 'provincia',\n",
    "       'poblacion', 'lat', 'lon', 'Origen_Compra', 'Fue_Lead_Alguna_Vez',\n",
    "       'Numero_Veces_Lead', 'Total_Compras', 'Modelos_Comprados', 'PVP_Total',\n",
    "       'PVP_Medio', 'PVP_Diferencia', 'Dias_Entre_Primera_Ultima_Compra',\n",
    "       'Ultima_Compra', 'Dias_Desde_Ultima_Compra', 'Compra_Finde_O_Festivo',\n",
    "       'Edad_Media_Coche', 'Total_Revisiones', 'Km_Medio_por_Revision',\n",
    "       'Tuvo_Mantenimiento_Gratuito', 'Dias_Medio_En_Taller', 'Total_Quejas',\n",
    "       'Compra_Tienda_Unica', 'Contrato_Seguro_Bateria', 'Coste_Medio_Cliente',\n",
    "       'Margen_Bruto_Medio', 'Margen_eur_Medio', 'Rentabilidad_Relativa',\n",
    "       'Churn_Cliente', 'Dias_Medios_Desde_Ultima_Revision',\n",
    "       'churn_medio_estimado', 'retencion', 'CLV_5_anos'],\n",
    "      dtype='object')"
   ]
  },
  {
   "cell_type": "code",
   "execution_count": 5,
   "metadata": {},
   "outputs": [],
   "source": [
    "file_path = \"client_anlysis/df_final.csv\"\n",
    "df_final= pd.read_csv(file_path)"
   ]
  },
  {
   "cell_type": "code",
   "execution_count": 6,
   "metadata": {},
   "outputs": [
    {
     "data": {
      "text/plain": [
       "Index(['Unnamed: 0', 'Customer_ID', 'Edad', 'RENTA_MEDIA_ESTIMADA', 'GENERO',\n",
       "       'Fecha_nacimiento', 'STATUS_SOCIAL', 'CODIGO_POSTAL', 'provincia',\n",
       "       'poblacion', 'lat', 'lon', 'Origen_Compra', 'Fue_Lead_Alguna_Vez',\n",
       "       'Numero_Veces_Lead', 'Total_Compras', 'Modelos_Comprados', 'PVP_Total',\n",
       "       'PVP_Medio', 'PVP_Diferencia', 'Dias_Entre_Primera_Ultima_Compra',\n",
       "       'Ultima_Compra', 'Dias_Desde_Ultima_Compra', 'Compra_Finde_O_Festivo',\n",
       "       'Edad_Media_Coche', 'Total_Revisiones', 'Km_Medio_por_Revision',\n",
       "       'Tuvo_Mantenimiento_Gratuito', 'Dias_Medio_En_Taller', 'Total_Quejas',\n",
       "       'Compra_Tienda_Unica', 'Contrato_Seguro_Bateria', 'Coste_Medio_Cliente',\n",
       "       'Margen_Bruto_Medio', 'Margen_eur_Medio', 'Rentabilidad_Relativa',\n",
       "       'Dias_Medios_Desde_Ultima_Revision', 'churn_medio_estimado',\n",
       "       'retencion', 'CLV_5_anos', 'PC1', 'PC2', 'Cluster'],\n",
       "      dtype='object')"
      ]
     },
     "execution_count": 6,
     "metadata": {},
     "output_type": "execute_result"
    }
   ],
   "source": [
    "df_final.columns"
   ]
  }
 ],
 "metadata": {
  "kernelspec": {
   "display_name": "Python 3",
   "language": "python",
   "name": "python3"
  },
  "language_info": {
   "codemirror_mode": {
    "name": "ipython",
    "version": 3
   },
   "file_extension": ".py",
   "mimetype": "text/x-python",
   "name": "python",
   "nbconvert_exporter": "python",
   "pygments_lexer": "ipython3",
   "version": "3.12.6"
  }
 },
 "nbformat": 4,
 "nbformat_minor": 2
}
