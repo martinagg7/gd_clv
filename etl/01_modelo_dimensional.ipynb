{
 "cells": [
  {
   "cell_type": "markdown",
   "metadata": {},
   "source": [
    "## Librerias"
   ]
  },
  {
   "cell_type": "code",
   "execution_count": 8,
   "metadata": {},
   "outputs": [],
   "source": [
    "import pyodbc\n",
    "import pandas as pd\n",
    "import numpy as np\n",
    "import os\n",
    "import glob\n",
    "import warnings\n",
    "from tabulate import tabulate\n",
    "\n",
    "\n",
    "# Para quitar unos warnings\n",
    "warnings.filterwarnings(\"ignore\", message=\"pandas only supports SQLAlchemy connectable\")\n"
   ]
  },
  {
   "cell_type": "markdown",
   "metadata": {},
   "source": [
    "## Pruebas de funcionamiento"
   ]
  },
  {
   "cell_type": "markdown",
   "metadata": {},
   "source": [
    "**Importacion de las Consultas SQL**\n",
    "\n",
    "Prueba para ver si se importan de forma correcta los arhivos que tenemos en la carpeta queries/.Solo tomamos aquellos que vamos a utilizar para nuestro modelo dimensional,es decir los que empiezan por dim_"
   ]
  },
  {
   "cell_type": "code",
   "execution_count": 9,
   "metadata": {},
   "outputs": [
    {
     "name": "stdout",
     "output_type": "stream",
     "text": [
      "Encontrados 5 archivos:\n",
      "Archivo: dim_cliente.sql\n",
      "Archivo: dim_fact.sql\n",
      "Archivo: dim_geog.sql\n",
      "Archivo: dim_prod.sql\n",
      "Archivo: dim_tiempo.sql\n"
     ]
    }
   ],
   "source": [
    "BASE_DIR = os.getcwd()  \n",
    "queries_path = os.path.join(BASE_DIR, \"..\", \"queries\")\n",
    "\n",
    "\n",
    "dim_files = glob.glob(os.path.join(queries_path, \"dim_*.sql\"))\n",
    "\n",
    "if not dim_files:\n",
    "    print(\"ERROR: No se encontraron archivos que empiecen con 'dim_'.\")\n",
    "else:\n",
    "    print(f\"Encontrados {len(dim_files)} archivos:\")\n",
    "    for sql_file in dim_files:\n",
    "        with open(sql_file, \"r\", encoding=\"utf-8\") as f:\n",
    "            sql_content = f.read()\n",
    "        print(f\"Archivo: {os.path.basename(sql_file)}\")\n"
   ]
  },
  {
   "cell_type": "markdown",
   "metadata": {},
   "source": [
    "## Exportación Tablas Azure-Local"
   ]
  },
  {
   "cell_type": "markdown",
   "metadata": {},
   "source": [
    "**Conexiones y Rutas de las Consultas**\n",
    "\n",
    "Este código establece las conexiones necesarias para extraer las tablas de Azure SQL Database y utilizar esas tablas para ejecutar las consultas necesarias que crean las tablas de nuestro modelo dimensional. Estas se cargarán en una base de datos local (SSMS).\n",
    "\n",
    "- Servidores:\n",
    "  - Azure SQL Database: Servidor en la nube (tablas originales)\n",
    "  - SQL Server Local (SSMS): Servidor local donde se crean las tablas del modelo dimensional\n",
    "\n",
    "- Driver:\n",
    "  - Se utiliza el ODBC Driver 17 for SQL Server, que viene por defecto en Windows y permite conectar y ejecutar consultas en ambas instancias.\n"
   ]
  },
  {
   "cell_type": "code",
   "execution_count": 10,
   "metadata": {},
   "outputs": [],
   "source": [
    "#Conexión Azure\n",
    "AZURE_SERVER = 'uaxmathfis.database.windows.net'\n",
    "AZURE_DATABASE = 'usecases'\n",
    "AZURE_DRIVER = '{ODBC Driver 17 for SQL Server}'\n",
    "azure_conn_str = f\"DRIVER={AZURE_DRIVER};SERVER={AZURE_SERVER};DATABASE={AZURE_DATABASE};Authentication=ActiveDirectoryInteractive\"\n",
    "\n",
    "# Consexión SQL Server Local\n",
    "LOCAL_SERVER = 'localhost'\n",
    "LOCAL_DATABASE = 'dwh_case1'\n",
    "LOCAL_DRIVER = '{ODBC Driver 17 for SQL Server}'\n",
    "local_conn_str = f\"DRIVER={LOCAL_DRIVER};SERVER={LOCAL_SERVER};DATABASE={LOCAL_DATABASE};Trusted_Connection=yes;TrustServerCertificate=yes\"\n",
    "\n",
    "# Rutas a las consutlas para modelo dimensional\n",
    "BASE_DIR = os.getcwd()\n",
    "queries_path = os.path.join(BASE_DIR, \"..\", \"queries\")\n",
    "dim_files = glob.glob(os.path.join(queries_path, \"dim_*.sql\"))"
   ]
  },
  {
   "cell_type": "markdown",
   "metadata": {},
   "source": [
    "Establecemos las conexiones con Azure y SSMS"
   ]
  },
  {
   "cell_type": "code",
   "execution_count": 11,
   "metadata": {},
   "outputs": [
    {
     "name": "stdout",
     "output_type": "stream",
     "text": [
      "Conexiones establecidas\n"
     ]
    }
   ],
   "source": [
    "conn_azure = pyodbc.connect(azure_conn_str)\n",
    "conn_local = pyodbc.connect(local_conn_str)\n",
    "cursor_local = conn_local.cursor()\n",
    "print(\"Conexiones establecidas\")"
   ]
  },
  {
   "cell_type": "markdown",
   "metadata": {},
   "source": [
    "**ETL**\n",
    "\n",
    "Este código realiza un proceso ETL completo para migrar datos desde Azure a SQL Server Local:\n",
    "\n",
    "- *Extract:*  \n",
    "  Se conecta a Azure SQL y, para cada archivo SQL en la carpeta \"queries\", se ejecuta la consulta para extraer los datos (en forma de DataFrame).\n",
    "\n",
    "- *Transform*  \n",
    "  Se limpian los datos (se reemplazan nulos por 0) y se ajustan los tipos de datos (por ejemplo, de float64 a float32 y de int64 a int32) para optimizar la inserción en SQL Server.\n",
    "\n",
    "- *Load*  \n",
    "  Se elimina la tabla local (si existe), se crea una nueva tabla en SQL Server Local usando una definición dinámica basada en el DataFrame, y se insertan los datos extraídos.\n",
    "\n"
   ]
  },
  {
   "cell_type": "code",
   "execution_count": 12,
   "metadata": {},
   "outputs": [
    {
     "name": "stdout",
     "output_type": "stream",
     "text": [
      "-Tabla dim_cliente creada correctamente en SQL Server Local.\n",
      " Tabla: dim_cliente\n",
      "  Columnas extraídas: 37\n",
      "  Filas extraídas: 44053\n",
      "  Tabla eliminada (si existía): Sí\n",
      "  Tabla creada: Sí\n",
      "  Filas insertadas: 44053\n",
      "\n",
      "-Tabla dim_fact creada correctamente en SQL Server Local.\n",
      " Tabla: dim_fact\n",
      "  Columnas extraídas: 41\n",
      "  Filas extraídas: 58049\n",
      "  Tabla eliminada (si existía): Sí\n",
      "  Tabla creada: Sí\n",
      "  Filas insertadas: 58049\n",
      "\n",
      "-Tabla dim_geog creada correctamente en SQL Server Local.\n",
      " Tabla: dim_geog\n",
      "  Columnas extraídas: 6\n",
      "  Filas extraídas: 12\n",
      "  Tabla eliminada (si existía): Sí\n",
      "  Tabla creada: Sí\n",
      "  Filas insertadas: 12\n",
      "\n",
      "-Tabla dim_prod creada correctamente en SQL Server Local.\n",
      " Tabla: dim_prod\n",
      "  Columnas extraídas: 17\n",
      "  Filas extraídas: 404\n",
      "  Tabla eliminada (si existía): Sí\n",
      "  Tabla creada: Sí\n",
      "  Filas insertadas: 404\n",
      "\n",
      "-Tabla dim_tiempo creada correctamente en SQL Server Local.\n",
      " Tabla: dim_tiempo\n",
      "  Columnas extraídas: 14\n",
      "  Filas extraídas: 3652\n",
      "  Tabla eliminada (si existía): Sí\n",
      "  Tabla creada: Sí\n",
      "  Filas insertadas: 3652\n",
      "\n",
      "\n",
      " Modelo dimensional creado correctamente!\n"
     ]
    }
   ],
   "source": [
    "resumen_tablas = []\n",
    "\n",
    "for sql_file in dim_files:\n",
    "    table_name = os.path.splitext(os.path.basename(sql_file))[0]\n",
    "    NEW_TABLE_NAME = table_name  \n",
    "    \n",
    "    # EXTRACT: Leemos  la consulta y extraemos datos desde Azure SQL\n",
    "    with open(sql_file, 'r', encoding='utf-8') as file:\n",
    "        sql_query = file.read()\n",
    "    df = pd.read_sql(sql_query, conn_azure)\n",
    "    \n",
    "    if df.empty:\n",
    "        print(f\"Tabla: {NEW_TABLE_NAME} sin datos, se omite.\")\n",
    "        continue\n",
    "    \n",
    "    filas_extracted, columnas_extracted = df.shape\n",
    "\n",
    "    # TRANSFORM: Tratamiento tipos datos\n",
    "\n",
    "    # Tratamiento nulos\n",
    "\n",
    "    # 1. Reemplazar celdas vacías o con espacios por NaN\n",
    "    df = df.replace(r'^\\s*$', np.nan, regex=True)\n",
    "\n",
    "    # 2. Tratamiento personalizado para columnas categóricas y sensibles\n",
    "    if 'GENERO' in df.columns:\n",
    "        df['GENERO'] = df['GENERO'].fillna('NA')  # Evita 0 para análisis categórico en Power BI\n",
    "\n",
    "    if 'provincia' in df.columns:\n",
    "        df['provincia'] = df['provincia'].fillna('NA')  # Mejor para filtros y agrupaciones\n",
    "\n",
    "    if 'QUEJA' in df.columns:\n",
    "        df['QUEJA'] = df['QUEJA'].fillna('NA')  # Así se distingue de 'NO'\n",
    "\n",
    "    if 'lat' in df.columns:\n",
    "        df['lat'] = df['lat'].fillna('NA')  # Evita errores en mapas (0,0)\n",
    "\n",
    "    if 'lon' in df.columns:\n",
    "        df['lon'] = df['lon'].fillna('NA')\n",
    "\n",
    "    if 'Fecha_Ultima_Revision' in df.columns:\n",
    "        df['Fecha_Ultima_Revision'] = pd.to_datetime(df['Fecha_Ultima_Revision'], errors='coerce')  # Deja como NaT los nulos\n",
    "\n",
    "    # 3. Aplicar fillna(0) al resto del DataFrame\n",
    "    columnas_excluidas = ['lat', 'lon', 'Fecha_Ultima_Revision', 'GENERO', 'provincia', 'QUEJA']\n",
    "    columnas_a_rellenar = [col for col in df.columns if col not in columnas_excluidas]\n",
    "\n",
    "    df[columnas_a_rellenar] = df[columnas_a_rellenar].fillna(0)\n",
    "\n",
    "    # 4. Asegurarnos de que todas las columnas con formato de fecha sean datetime\n",
    "    columnas_fecha = ['Fecha_Ultima_Revision', 'Sales_Date', 'FIN_GARANTIA', 'BASE_DATE', 'Prod_date', 'Logistic_date']  # Añade más si es necesario\n",
    "\n",
    "    for col in columnas_fecha:\n",
    "        if col in df.columns:\n",
    "            df[col] = pd.to_datetime(df[col], errors='coerce')\n",
    "\n",
    "    #5. Tipos de datos numéricos\n",
    "    for col in df.select_dtypes(include=['float64']).columns:\n",
    "        df[col] = df[col].astype(np.float32)\n",
    "    for col in df.select_dtypes(include=['int64']).columns:\n",
    "        df[col] = df[col].astype(np.int32)\n",
    "\n",
    "    # LOAD: Carga de las tablas del modelo dimensional en BBDD local\n",
    "    cursor_local.execute(f\"DROP TABLE IF EXISTS {NEW_TABLE_NAME}\")  # Eliminamos tabla (si ya existe)\n",
    "    conn_local.commit()\n",
    "    print(f\"-Tabla {NEW_TABLE_NAME} creada correctamente en SQL Server Local.\")\n",
    "\n",
    "    # Creamos la tabla con los tipos de datos ajustados\n",
    "    create_table_sql = f\"\"\"\n",
    "    CREATE TABLE {NEW_TABLE_NAME} (\n",
    "        {', '.join([\n",
    "            f'[{col}] DATE' if np.issubdtype(df[col].dtype, np.datetime64)\n",
    "            else f'[{col}] FLOAT' if df[col].dtype == np.float32 \n",
    "            else f'[{col}] INT' if df[col].dtype == np.int32 \n",
    "            else f'[{col}] NVARCHAR(255)' for col in df.columns\n",
    "        ])}\n",
    "    );\n",
    "    \"\"\"\n",
    "    cursor_local.execute(create_table_sql)\n",
    "    conn_local.commit()\n",
    "    \n",
    "    # Insertamos datos en la tabla\n",
    "    placeholders = ', '.join(['?' for _ in df.columns])  # Rellenamos con interrogaciones para luego insertar los datos\n",
    "    insert_sql = f\"INSERT INTO {NEW_TABLE_NAME} VALUES ({placeholders})\"\n",
    "\n",
    "    cursor_local.fast_executemany = True\n",
    "    cursor_local.executemany(insert_sql, df.values.tolist())  # Creamos una lista con los valores del df y los introducimos en las tablas\n",
    "    conn_local.commit()\n",
    "    filas_insertadas = df.shape[0]\n",
    "    \n",
    "    # Mostramos un resumen de los datos extraídos para el modelo dimensional\n",
    "    print(f\" Tabla: {NEW_TABLE_NAME}\")\n",
    "    print(f\"  Columnas extraídas: {columnas_extracted}\")\n",
    "    print(f\"  Filas extraídas: {filas_extracted}\")\n",
    "    print(f\"  Tabla eliminada (si existía): Sí\")\n",
    "    print(f\"  Tabla creada: Sí\")\n",
    "    print(f\"  Filas insertadas: {filas_insertadas}\\n\")\n",
    "    \n",
    "    resumen_tablas.append({\n",
    "        \"Tabla\": NEW_TABLE_NAME,\n",
    "        \"Columnas extraídas\": columnas_extracted,\n",
    "        \"Filas extraídas\": filas_extracted,\n",
    "        \"Tabla eliminada\": \"Sí\",\n",
    "        \"Tabla creada\": \"Sí\",\n",
    "        \"Filas insertadas\": filas_insertadas\n",
    "    })\n",
    "\n",
    "print(\"\\n Modelo dimensional creado correctamente!\")\n"
   ]
  },
  {
   "cell_type": "markdown",
   "metadata": {},
   "source": [
    "**Resumen de las tablas importadas**"
   ]
  },
  {
   "cell_type": "code",
   "execution_count": 13,
   "metadata": {},
   "outputs": [
    {
     "name": "stdout",
     "output_type": "stream",
     "text": [
      "+-------------+----------------------+-------------------+-------------------+----------------+--------------------+\n",
      "| Tabla       |  Columnas extraídas  |  Filas extraídas  | Tabla eliminada   | Tabla creada   |  Filas insertadas  |\n",
      "+=============+======================+===================+===================+================+====================+\n",
      "| dim_cliente |          37          |       44053       | Sí                | Sí             |       44053        |\n",
      "+-------------+----------------------+-------------------+-------------------+----------------+--------------------+\n",
      "| dim_fact    |          41          |       58049       | Sí                | Sí             |       58049        |\n",
      "+-------------+----------------------+-------------------+-------------------+----------------+--------------------+\n",
      "| dim_geog    |          6           |        12         | Sí                | Sí             |         12         |\n",
      "+-------------+----------------------+-------------------+-------------------+----------------+--------------------+\n",
      "| dim_prod    |          17          |        404        | Sí                | Sí             |        404         |\n",
      "+-------------+----------------------+-------------------+-------------------+----------------+--------------------+\n",
      "| dim_tiempo  |          14          |       3652        | Sí                | Sí             |        3652        |\n",
      "+-------------+----------------------+-------------------+-------------------+----------------+--------------------+\n",
      "\n",
      "Proceso completado correctamente!\n"
     ]
    }
   ],
   "source": [
    "print(tabulate(resumen_tablas, headers=\"keys\", tablefmt=\"grid\", numalign=\"center\"))\n",
    "print(\"\\nProceso completado correctamente!\")\n"
   ]
  },
  {
   "cell_type": "markdown",
   "metadata": {},
   "source": [
    "## Comprobaciones Finales"
   ]
  },
  {
   "cell_type": "markdown",
   "metadata": {},
   "source": [
    "Es muy importante **mantener la consistencia** de los datos entre el origen (Azure ) y el destino (SSMS), ya que una pérdida de registros podría afectar directamente a los análisis posteriores.\n",
    "\n",
    "Por eso, realizamos una verificación de integridad, comparando el número de filas que tiene cada tabla en Azure con las tablas generadas localmente tras ejecutar las consultas del modelo dimensional.\n"
   ]
  },
  {
   "cell_type": "markdown",
   "metadata": {},
   "source": [
    "Realizaremos la compración  de esta forma:\n",
    "| **Local Table (SSMS)** | **Azure Table**             |\n",
    "|------------------------|-----------------------------|\n",
    "| [dbo].[fact_table]   | [DATAEX].[001_sales]      |\n",
    "| [dbo].[cliente]      | [DATAEX].[003_clientes]   |\n",
    "| [dbo].[prod]         | [DATAEX].[006_producto]   |\n",
    "| [dbo].[geog]        | [DATAEX].[011_tienda]     |"
   ]
  },
  {
   "cell_type": "code",
   "execution_count": 14,
   "metadata": {},
   "outputs": [
    {
     "name": "stdout",
     "output_type": "stream",
     "text": [
      "\n",
      "Resumen de comparación de tablas:\n",
      "\n",
      "+-------------+-------------+-------------+-------------+\n",
      "| Tabla       |   Azure SQL |   SQL Local | Resultado   |\n",
      "+=============+=============+=============+=============+\n",
      "| dim_fact    |       58049 |       58049 | Coinciden   |\n",
      "+-------------+-------------+-------------+-------------+\n",
      "| dim_cliente |       44053 |       44053 | Coinciden   |\n",
      "+-------------+-------------+-------------+-------------+\n",
      "| dim_prod    |         404 |         404 | Coinciden   |\n",
      "+-------------+-------------+-------------+-------------+\n",
      "| dim_geog    |          12 |          12 | Coinciden   |\n",
      "+-------------+-------------+-------------+-------------+\n"
     ]
    }
   ],
   "source": [
    "# Tablas a comparar\n",
    "tables = {\n",
    "    \"[dbo].[dim_fact]\": \"[DATAEX].[001_sales]\",\n",
    "    \"[dbo].[dim_cliente]\":    \"[DATAEX].[003_clientes]\",\n",
    "    \"[dbo].[dim_prod]\":       \"[DATAEX].[006_producto]\",\n",
    "    \"[dbo].[dim_geog]\":       \"[DATAEX].[011_tienda]\"\n",
    "}\n",
    "\n",
    "# Lista para guardar resultados\n",
    "resultados = []\n",
    "\n",
    "\n",
    "for local_table, azure_table in tables.items():\n",
    "        # Contar filas en Azure\n",
    "        azure_query = f\"SELECT COUNT(*) AS Total_Filas FROM {azure_table}\"\n",
    "        df_azure = pd.read_sql(azure_query, conn_azure)\n",
    "        azure_count = df_azure['Total_Filas'].iloc[0]\n",
    "\n",
    "        # Contar filas en Local\n",
    "        local_query = f\"SELECT COUNT(*) AS Total_Filas FROM {local_table}\"\n",
    "        df_local = pd.read_sql(local_query, conn_local)\n",
    "        local_count = df_local['Total_Filas'].iloc[0]\n",
    "\n",
    "        # Comparación\n",
    "        resultado = \"Coinciden\" if azure_count == local_count else \"No coinciden\"\n",
    "        nombre_tabla = local_table.split('.')[-1].replace('[', '').replace(']', '')\n",
    "        resultados.append([nombre_tabla, azure_count, local_count, resultado])\n",
    "\n",
    "\n",
    "\n",
    "# Mostrar tabla con resultados\n",
    "print(\"\\nResumen de comparación de tablas:\\n\")\n",
    "print(tabulate(resultados, headers=[\"Tabla\", \"Azure SQL\", \"SQL Local\", \"Resultado\"], tablefmt=\"grid\"))"
   ]
  }
 ],
 "metadata": {
  "kernelspec": {
   "display_name": "Python 3",
   "language": "python",
   "name": "python3"
  },
  "language_info": {
   "codemirror_mode": {
    "name": "ipython",
    "version": 3
   },
   "file_extension": ".py",
   "mimetype": "text/x-python",
   "name": "python",
   "nbconvert_exporter": "python",
   "pygments_lexer": "ipython3",
   "version": "3.12.6"
  }
 },
 "nbformat": 4,
 "nbformat_minor": 2
}
