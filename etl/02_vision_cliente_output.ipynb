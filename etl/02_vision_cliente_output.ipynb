{
 "cells": [
  {
   "cell_type": "markdown",
   "id": "464b90f6",
   "metadata": {
    "tags": [
     "papermill-error-cell-tag"
    ]
   },
   "source": [
    "<span style=\"color:red; font-family:Helvetica Neue, Helvetica, Arial, sans-serif; font-size:2em;\">An Exception was encountered at '<a href=\"#papermill-error-cell\">In [2]</a>'.</span>"
   ]
  },
  {
   "cell_type": "markdown",
   "id": "15859cdb",
   "metadata": {
    "papermill": {
     "duration": 0.004505,
     "end_time": "2025-03-28T17:30:54.794540",
     "exception": false,
     "start_time": "2025-03-28T17:30:54.790035",
     "status": "completed"
    },
    "tags": []
   },
   "source": [
    "# Librerias"
   ]
  },
  {
   "cell_type": "code",
   "execution_count": 1,
   "id": "082fa382",
   "metadata": {
    "execution": {
     "iopub.execute_input": "2025-03-28T17:30:54.803020Z",
     "iopub.status.busy": "2025-03-28T17:30:54.802549Z",
     "iopub.status.idle": "2025-03-28T17:30:55.005948Z",
     "shell.execute_reply": "2025-03-28T17:30:55.005588Z"
    },
    "papermill": {
     "duration": 0.208356,
     "end_time": "2025-03-28T17:30:55.006891",
     "exception": false,
     "start_time": "2025-03-28T17:30:54.798535",
     "status": "completed"
    },
    "tags": []
   },
   "outputs": [],
   "source": [
    "import os\n",
    "import pyodbc\n",
    "import pandas as pd\n",
    "import numpy as np\n",
    "import warnings\n",
    "warnings.filterwarnings(\"ignore\", category=UserWarning)"
   ]
  },
  {
   "cell_type": "markdown",
   "id": "fbaebc4b",
   "metadata": {
    "papermill": {
     "duration": 0.000547,
     "end_time": "2025-03-28T17:30:55.008225",
     "exception": false,
     "start_time": "2025-03-28T17:30:55.007678",
     "status": "completed"
    },
    "tags": []
   },
   "source": [
    "# Conexión SSMS y Consulta Vision Cliente"
   ]
  },
  {
   "cell_type": "markdown",
   "id": "140c695c",
   "metadata": {
    "papermill": {
     "duration": 0.000435,
     "end_time": "2025-03-28T17:30:55.009126",
     "exception": false,
     "start_time": "2025-03-28T17:30:55.008691",
     "status": "completed"
    },
    "tags": []
   },
   "source": [
    "**Vision_Cliente**\n",
    "\n",
    "En el siguiente  código se realiza una conexión con el servidor local (SSMS). A través de esta conexión, se ejecuta una consulta SQL almacenada en el archivo `vision_cliente.sql`, ubicado en la carpeta `queries`.\n",
    "\n",
    "Esta consulta, explicada con más detalle en el archivo de apoyo `apoyo.md`, permite obtener una tabla final con información por cliente. En concreto, se calculan una serie de métricas agregadas relacionadas con el comportamiento de compra, mantenimiento, rentabilidad del cliente.\n",
    "\n",
    "Además, se incluyen datos identificativos  de cada cliente (como la edad, el género o el status social)."
   ]
  },
  {
   "cell_type": "markdown",
   "id": "f85d644c",
   "metadata": {
    "tags": [
     "papermill-error-cell-tag"
    ]
   },
   "source": [
    "<span id=\"papermill-error-cell\" style=\"color:red; font-family:Helvetica Neue, Helvetica, Arial, sans-serif; font-size:2em;\">Execution using papermill encountered an exception here and stopped:</span>"
   ]
  },
  {
   "cell_type": "code",
   "execution_count": 2,
   "id": "11d5d30f",
   "metadata": {
    "execution": {
     "iopub.execute_input": "2025-03-28T17:30:55.010534Z",
     "iopub.status.busy": "2025-03-28T17:30:55.010399Z",
     "iopub.status.idle": "2025-03-28T17:30:55.103593Z",
     "shell.execute_reply": "2025-03-28T17:30:55.103120Z"
    },
    "papermill": {
     "duration": 0.094617,
     "end_time": "2025-03-28T17:30:55.104189",
     "exception": true,
     "start_time": "2025-03-28T17:30:55.009572",
     "status": "failed"
    },
    "tags": []
   },
   "outputs": [
    {
     "ename": "Error",
     "evalue": "('01000', \"[01000] [unixODBC][Driver Manager]Can't open lib 'ODBC Driver 17 for SQL Server' : file not found (0) (SQLDriverConnect)\")",
     "output_type": "error",
     "traceback": [
      "\u001b[0;31m---------------------------------------------------------------------------\u001b[0m",
      "\u001b[0;31mError\u001b[0m                                     Traceback (most recent call last)",
      "Cell \u001b[0;32mIn[2], line 8\u001b[0m\n\u001b[1;32m      5\u001b[0m local_conn_str \u001b[38;5;241m=\u001b[39m \u001b[38;5;124mf\u001b[39m\u001b[38;5;124m\"\u001b[39m\u001b[38;5;124mDRIVER=\u001b[39m\u001b[38;5;132;01m{\u001b[39;00mLOCAL_DRIVER\u001b[38;5;132;01m}\u001b[39;00m\u001b[38;5;124m;SERVER=\u001b[39m\u001b[38;5;132;01m{\u001b[39;00mLOCAL_SERVER\u001b[38;5;132;01m}\u001b[39;00m\u001b[38;5;124m;DATABASE=\u001b[39m\u001b[38;5;132;01m{\u001b[39;00mLOCAL_DATABASE\u001b[38;5;132;01m}\u001b[39;00m\u001b[38;5;124m;Trusted_Connection=yes;TrustServerCertificate=yes\u001b[39m\u001b[38;5;124m\"\u001b[39m\n\u001b[1;32m      7\u001b[0m \u001b[38;5;66;03m# Conexión a la base de datos local\u001b[39;00m\n\u001b[0;32m----> 8\u001b[0m conn_local \u001b[38;5;241m=\u001b[39m \u001b[43mpyodbc\u001b[49m\u001b[38;5;241;43m.\u001b[39;49m\u001b[43mconnect\u001b[49m\u001b[43m(\u001b[49m\u001b[43mlocal_conn_str\u001b[49m\u001b[43m)\u001b[49m\n\u001b[1;32m      9\u001b[0m cursor_local \u001b[38;5;241m=\u001b[39m conn_local\u001b[38;5;241m.\u001b[39mcursor()\n\u001b[1;32m     11\u001b[0m \u001b[38;5;66;03m# Ruta archivo vision_cliente.sql\u001b[39;00m\n",
      "\u001b[0;31mError\u001b[0m: ('01000', \"[01000] [unixODBC][Driver Manager]Can't open lib 'ODBC Driver 17 for SQL Server' : file not found (0) (SQLDriverConnect)\")"
     ]
    }
   ],
   "source": [
    "# Conexión SSMS\n",
    "LOCAL_SERVER = 'localhost'\n",
    "LOCAL_DATABASE = 'dwh_case1'\n",
    "LOCAL_DRIVER = '{ODBC Driver 17 for SQL Server}'\n",
    "local_conn_str = f\"DRIVER={LOCAL_DRIVER};SERVER={LOCAL_SERVER};DATABASE={LOCAL_DATABASE};Trusted_Connection=yes;TrustServerCertificate=yes\"\n",
    "\n",
    "# Conexión a la base de datos local\n",
    "conn_local = pyodbc.connect(local_conn_str)\n",
    "cursor_local = conn_local.cursor()\n",
    "\n",
    "# Ruta archivo vision_cliente.sql\n",
    "queries_notebooks_path = os.path.join(os.getcwd(), \"queries\")\n",
    "vision_cliente_file = os.path.join(\"..\", \"queries\", \"vision_cliente.sql\")\n",
    "\n",
    "\n",
    "# 1. Leer la consulta desde vision_cliente.sql\n",
    "with open(vision_cliente_file, 'r', encoding='utf-8') as file:\n",
    "    vision_query = file.read()\n",
    "\n",
    "# 2. Ejecutar la consulta en SQL Server Local y obtener un DataFrame\n",
    "print(\"Ejecutando la consulta vision_cliente.sql \")\n",
    "df = pd.read_sql(vision_query, conn_local)\n",
    "\n",
    "# Guardar los resultados de la consulta en un archivo CSV\n",
    "df.to_csv(\"vision_cliente.csv\", index=False, encoding='utf-8')\n",
    "print(\"Archivo 'vision_cliente.csv' guardado correctamente.\")\n",
    "\n",
    "\n",
    "print(\"Columnas del DataFrame 'vision_cliente':\")\n",
    "for col in df.columns:\n",
    "    print(f\"- {col}\")\n",
    "\n",
    "print(f\"Datos extraídos: {df.shape[0]} filas.\")\n",
    "\n",
    "# 3. Convertir NaN a 0 y ajustar tipos\n",
    "df = df.fillna(0)\n",
    "\n",
    "for col in df.select_dtypes(include=['float64']).columns:\n",
    "    df[col] = df[col].astype(np.float32)\n",
    "\n",
    "for col in df.select_dtypes(include=['int64']).columns:\n",
    "    df[col] = df[col].astype(np.int32)\n",
    "\n",
    "# 4. Crear la tabla 'vision_cliente' (borrar si ya existe)\n",
    "drop_table_sql = \"DROP TABLE IF EXISTS vision_cliente\"\n",
    "cursor_local.execute(drop_table_sql)\n",
    "conn_local.commit()\n",
    "\n",
    "# 5. Generar CREATE TABLE dinámico en base a los tipos del DataFrame\n",
    "create_table_sql = f\"\"\"\n",
    "CREATE TABLE vision_cliente (\n",
    "    {', '.join([\n",
    "        f'[{col}] FLOAT' if df[col].dtype == np.float32 \n",
    "        else f'[{col}] INT' if df[col].dtype == np.int32 \n",
    "        else f'[{col}] NVARCHAR(255)' for col in df.columns\n",
    "    ])}\n",
    ");\n",
    "\"\"\"\n",
    "cursor_local.execute(create_table_sql)\n",
    "conn_local.commit()\n",
    "\n",
    "print(\"Tabla 'vision_cliente' creada correctamente.\")\n",
    "\n",
    "# 6. Insertar los datos\n",
    "placeholders = ', '.join(['?' for _ in df.columns])\n",
    "insert_sql = f\"INSERT INTO vision_cliente VALUES ({placeholders})\"\n",
    "\n",
    "cursor_local.fast_executemany = True\n",
    "cursor_local.executemany(insert_sql, df.values.tolist())\n",
    "conn_local.commit()\n",
    "\n",
    "print(f\"{df.shape[0]} filas insertadas en 'vision_cliente'.\")\n",
    "\n",
    "# Cerrar conexiones\n",
    "conn_local.close()\n",
    "\n",
    "print(\"\\n¡Consulta Cliente Terminada!\")\n"
   ]
  }
 ],
 "metadata": {
  "kernelspec": {
   "display_name": "Python 3",
   "language": "python",
   "name": "python3"
  },
  "language_info": {
   "codemirror_mode": {
    "name": "ipython",
    "version": 3
   },
   "file_extension": ".py",
   "mimetype": "text/x-python",
   "name": "python",
   "nbconvert_exporter": "python",
   "pygments_lexer": "ipython3",
   "version": "3.12.6"
  },
  "papermill": {
   "default_parameters": {},
   "duration": 1.044576,
   "end_time": "2025-03-28T17:30:55.219759",
   "environment_variables": {},
   "exception": true,
   "input_path": "/Users/martinagarciagonzalez/gd_clv-14/etl/02_vision_cliente.ipynb",
   "output_path": "/Users/martinagarciagonzalez/gd_clv-14/etl/02_vision_cliente_output.ipynb",
   "parameters": {},
   "start_time": "2025-03-28T17:30:54.175183",
   "version": "2.6.0"
  }
 },
 "nbformat": 4,
 "nbformat_minor": 5
}