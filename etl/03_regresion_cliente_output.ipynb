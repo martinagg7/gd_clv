{
 "cells": [
  {
   "cell_type": "markdown",
   "id": "9252b613",
   "metadata": {
    "tags": [
     "papermill-error-cell-tag"
    ]
   },
   "source": [
    "<span style=\"color:red; font-family:Helvetica Neue, Helvetica, Arial, sans-serif; font-size:2em;\">An Exception was encountered at '<a href=\"#papermill-error-cell\">In [2]</a>'.</span>"
   ]
  },
  {
   "cell_type": "markdown",
   "id": "c658bf8d",
   "metadata": {
    "papermill": {
     "duration": 0.013603,
     "end_time": "2025-03-28T17:35:11.126100",
     "exception": false,
     "start_time": "2025-03-28T17:35:11.112497",
     "status": "completed"
    },
    "tags": []
   },
   "source": [
    "# Librerias"
   ]
  },
  {
   "cell_type": "code",
   "execution_count": 1,
   "id": "4c9bb8a5",
   "metadata": {
    "execution": {
     "iopub.execute_input": "2025-03-28T17:35:11.137705Z",
     "iopub.status.busy": "2025-03-28T17:35:11.137465Z",
     "iopub.status.idle": "2025-03-28T17:35:11.948544Z",
     "shell.execute_reply": "2025-03-28T17:35:11.948282Z"
    },
    "papermill": {
     "duration": 0.816907,
     "end_time": "2025-03-28T17:35:11.949388",
     "exception": false,
     "start_time": "2025-03-28T17:35:11.132481",
     "status": "completed"
    },
    "tags": []
   },
   "outputs": [],
   "source": [
    "import os\n",
    "import pyodbc\n",
    "import glob\n",
    "import pandas as pd\n",
    "import numpy as np\n",
    "import warnings\n",
    "import matplotlib.pyplot as plt\n",
    "import seaborn as sns\n",
    "from sklearn.linear_model import LinearRegression\n",
    "import pandas as pd\n",
    "import itertools\n",
    "from sklearn.metrics import r2_score\n",
    "import pyodbc\n",
    "\n",
    "# Para quitar unos warnings\n",
    "warnings.filterwarnings(\"ignore\", message=\"pandas only supports SQLAlchemy connectable\")"
   ]
  },
  {
   "cell_type": "markdown",
   "id": "b219f61f",
   "metadata": {
    "papermill": {
     "duration": 0.001747,
     "end_time": "2025-03-28T17:35:11.953067",
     "exception": false,
     "start_time": "2025-03-28T17:35:11.951320",
     "status": "completed"
    },
    "tags": []
   },
   "source": [
    "# Regresión Lineal Variable Churn"
   ]
  },
  {
   "cell_type": "markdown",
   "id": "4c232322",
   "metadata": {
    "papermill": {
     "duration": 0.00172,
     "end_time": "2025-03-28T17:35:11.956511",
     "exception": false,
     "start_time": "2025-03-28T17:35:11.954791",
     "status": "completed"
    },
    "tags": []
   },
   "source": [
    "La consulta `regresion_cliente` está diseñada para calcular una serie de métricas agregadas en función del **PVP**. Se utiliza el PVP como índice para analizar cómo varían ciertas características del cliente y del vehículo en relación con este. \n",
    "\n",
    "El objetivo principal es **estimar el Churn (tasa de abandono)**. Para ello, primero se extraen métricas agregadas que pueden estar relacionadas con el comportamiento de compra y mantenimiento del vehículo. Posteriormente, se analizará cuáles de estas métricas tienen mayor correlación con el Churn para seleccionar las más relevantes.\n",
    "\n",
    "Una vez identificadas las variables más significativas, se aplicará un **modelo de regresión lineal** para estimar el **Churn Medio**, es decir, la probabilidad de que un cliente abandone."
   ]
  },
  {
   "cell_type": "markdown",
   "id": "5b8422e8",
   "metadata": {
    "papermill": {
     "duration": 0.001917,
     "end_time": "2025-03-28T17:35:11.960339",
     "exception": false,
     "start_time": "2025-03-28T17:35:11.958422",
     "status": "completed"
    },
    "tags": []
   },
   "source": [
    "## Consulta Regresion Cliente"
   ]
  },
  {
   "cell_type": "markdown",
   "id": "8de94708",
   "metadata": {
    "papermill": {
     "duration": 0.001779,
     "end_time": "2025-03-28T17:35:11.963950",
     "exception": false,
     "start_time": "2025-03-28T17:35:11.962171",
     "status": "completed"
    },
    "tags": []
   },
   "source": [
    "Aunque,para poder revisar más a fondo la consulta, esta se encuentra en `queries/vision_cliente.sql`.\n",
    "Las variables que hemos calculado por PVP son las que mostramos a continuación.\n",
    "\n",
    "**Variables de la Consulta**\n",
    "\n",
    "- *PVP*\n",
    "- *Numero_Compras*\n",
    "- *Edad_Media_Cliente*\n",
    "- *Edad_Media_Coche*\n",
    "- *Margen_Bruto_Medio*\n",
    "- *Margen_Eur_Medio*\n",
    "- *Coste_Total*\n",
    "- *Renta_Media*\n",
    "- *Km_medio_por_revision*\n",
    "- *Revisiones_Medias*\n",
    "- *Coste_Venta_No_Impuestos_Medio*\n",
    "- *Dias_En_Taller*\n",
    "- *Churn_Medio* (Variable objetivo)\n"
   ]
  },
  {
   "cell_type": "markdown",
   "id": "d3cbfb9d",
   "metadata": {
    "papermill": {
     "duration": 0.001653,
     "end_time": "2025-03-28T17:35:11.967248",
     "exception": false,
     "start_time": "2025-03-28T17:35:11.965595",
     "status": "completed"
    },
    "tags": []
   },
   "source": [
    "**Creación tabla en SSMS**"
   ]
  },
  {
   "cell_type": "markdown",
   "id": "068a2c55",
   "metadata": {
    "tags": [
     "papermill-error-cell-tag"
    ]
   },
   "source": [
    "<span id=\"papermill-error-cell\" style=\"color:red; font-family:Helvetica Neue, Helvetica, Arial, sans-serif; font-size:2em;\">Execution using papermill encountered an exception here and stopped:</span>"
   ]
  },
  {
   "cell_type": "code",
   "execution_count": 2,
   "id": "6363205d",
   "metadata": {
    "execution": {
     "iopub.execute_input": "2025-03-28T17:35:11.971260Z",
     "iopub.status.busy": "2025-03-28T17:35:11.970992Z",
     "iopub.status.idle": "2025-03-28T17:35:12.083677Z",
     "shell.execute_reply": "2025-03-28T17:35:12.083264Z"
    },
    "papermill": {
     "duration": 0.115432,
     "end_time": "2025-03-28T17:35:12.084307",
     "exception": true,
     "start_time": "2025-03-28T17:35:11.968875",
     "status": "failed"
    },
    "tags": []
   },
   "outputs": [
    {
     "ename": "Error",
     "evalue": "('01000', \"[01000] [unixODBC][Driver Manager]Can't open lib 'ODBC Driver 17 for SQL Server' : file not found (0) (SQLDriverConnect)\")",
     "output_type": "error",
     "traceback": [
      "\u001b[0;31m---------------------------------------------------------------------------\u001b[0m",
      "\u001b[0;31mError\u001b[0m                                     Traceback (most recent call last)",
      "Cell \u001b[0;32mIn[2], line 7\u001b[0m\n\u001b[1;32m      4\u001b[0m LOCAL_DRIVER \u001b[38;5;241m=\u001b[39m \u001b[38;5;124m'\u001b[39m\u001b[38;5;124m{\u001b[39m\u001b[38;5;124mODBC Driver 17 for SQL Server}\u001b[39m\u001b[38;5;124m'\u001b[39m\n\u001b[1;32m      5\u001b[0m local_conn_str \u001b[38;5;241m=\u001b[39m \u001b[38;5;124mf\u001b[39m\u001b[38;5;124m\"\u001b[39m\u001b[38;5;124mDRIVER=\u001b[39m\u001b[38;5;132;01m{\u001b[39;00mLOCAL_DRIVER\u001b[38;5;132;01m}\u001b[39;00m\u001b[38;5;124m;SERVER=\u001b[39m\u001b[38;5;132;01m{\u001b[39;00mLOCAL_SERVER\u001b[38;5;132;01m}\u001b[39;00m\u001b[38;5;124m;DATABASE=\u001b[39m\u001b[38;5;132;01m{\u001b[39;00mLOCAL_DATABASE\u001b[38;5;132;01m}\u001b[39;00m\u001b[38;5;124m;Trusted_Connection=yes;TrustServerCertificate=yes\u001b[39m\u001b[38;5;124m\"\u001b[39m\n\u001b[0;32m----> 7\u001b[0m conn_local \u001b[38;5;241m=\u001b[39m \u001b[43mpyodbc\u001b[49m\u001b[38;5;241;43m.\u001b[39;49m\u001b[43mconnect\u001b[49m\u001b[43m(\u001b[49m\u001b[43mlocal_conn_str\u001b[49m\u001b[43m)\u001b[49m\n\u001b[1;32m      9\u001b[0m \u001b[38;5;66;03m# Leer la consulta desde la carpeta \"queries\"\u001b[39;00m\n\u001b[1;32m     10\u001b[0m BASE_DIR \u001b[38;5;241m=\u001b[39m os\u001b[38;5;241m.\u001b[39mgetcwd()\n",
      "\u001b[0;31mError\u001b[0m: ('01000', \"[01000] [unixODBC][Driver Manager]Can't open lib 'ODBC Driver 17 for SQL Server' : file not found (0) (SQLDriverConnect)\")"
     ]
    }
   ],
   "source": [
    "# Conexión a SQL Server Local\n",
    "LOCAL_SERVER = 'localhost'\n",
    "LOCAL_DATABASE = 'dwh_case1'\n",
    "LOCAL_DRIVER = '{ODBC Driver 17 for SQL Server}'\n",
    "local_conn_str = f\"DRIVER={LOCAL_DRIVER};SERVER={LOCAL_SERVER};DATABASE={LOCAL_DATABASE};Trusted_Connection=yes;TrustServerCertificate=yes\"\n",
    "\n",
    "conn_local = pyodbc.connect(local_conn_str)\n",
    "\n",
    "# Leer la consulta desde la carpeta \"queries\"\n",
    "BASE_DIR = os.getcwd()\n",
    "queries_path = os.path.join(BASE_DIR, \"..\", \"queries\")\n",
    "regresion_file = os.path.join(queries_path, \"regresion_cliente.sql\")\n",
    "with open(regresion_file, 'r', encoding='utf-8') as file:\n",
    "    regresion_query = file.read()\n",
    "\n",
    "# Ejecutar la consulta y guardar en DataFrame\n",
    "df_reg = pd.read_sql(regresion_query, conn_local)\n",
    "print(f\"Filas extraídas para regresión: {df_reg.shape[0]}\")\n",
    "print(\"Columnas extraídas:\", ', '.join(list(df_reg.columns)))\n",
    "\n",
    "conn_local.close()\n"
   ]
  },
  {
   "cell_type": "code",
   "execution_count": null,
   "id": "4659d81e",
   "metadata": {
    "papermill": {
     "duration": null,
     "end_time": null,
     "exception": null,
     "start_time": null,
     "status": "pending"
    },
    "tags": []
   },
   "outputs": [],
   "source": [
    "df_reg"
   ]
  },
  {
   "cell_type": "markdown",
   "id": "f90f84a5",
   "metadata": {
    "papermill": {
     "duration": null,
     "end_time": null,
     "exception": null,
     "start_time": null,
     "status": "pending"
    },
    "tags": []
   },
   "source": [
    "## Correlación Variables con Churn"
   ]
  },
  {
   "cell_type": "markdown",
   "id": "85932577",
   "metadata": {
    "papermill": {
     "duration": null,
     "end_time": null,
     "exception": null,
     "start_time": null,
     "status": "pending"
    },
    "tags": []
   },
   "source": [
    "En la siguiente matriz estudiamos la correlación de todas las variables que hemos seleccionado con la objetivo que es `churn_medio`."
   ]
  },
  {
   "cell_type": "code",
   "execution_count": null,
   "id": "d9eb027d",
   "metadata": {
    "papermill": {
     "duration": null,
     "end_time": null,
     "exception": null,
     "start_time": null,
     "status": "pending"
    },
    "tags": []
   },
   "outputs": [],
   "source": [
    "corr_matrix = df_reg.corr()\n",
    "\n",
    "plt.figure(figsize=(10, 8))\n",
    "sns.heatmap(corr_matrix, annot=True, cmap=\"Blues\", fmt=\".2f\")\n",
    "plt.title(\"Matriz de Correlación\")\n",
    "plt.tight_layout()\n",
    "plt.show()\n"
   ]
  },
  {
   "cell_type": "markdown",
   "id": "104c783a",
   "metadata": {
    "papermill": {
     "duration": null,
     "end_time": null,
     "exception": null,
     "start_time": null,
     "status": "pending"
    },
    "tags": []
   },
   "source": [
    "**Variables Seleccionadas para la Regresión y su Impacto en Churn Medio**\n",
    "\n",
    "Las siguientes variables han sido seleccionadas para la regresión debido a su relación con **Churn**. A continuación, se presentan sus coeficientes de correlación con esta variable y una posible interpretación:\n",
    "\n",
    "1. `PVP (Precio de Venta al Público)` (-0.32)  \n",
    "   - Un coeficiente negativo indica que a mayor precio de compra, menor es la tasa de abandono. Esto sugiere que los clientes que adquieren vehículos más caros tienen mayor compromiso con la marca y es menos probable que abandonen.\n",
    "\n",
    "2. `Edad_Media_Coche` (0.30)  \n",
    "   - Un coeficiente positivo implica que, a medida que aumenta la edad media del coche comprado, también aumenta la probabilidad de que el cliente abandone. Esto puede deberse a que los clientes con coches más antiguos buscan opciones en otros concesionarios.\n",
    "\n",
    "\n",
    "3. `Revisiones_Medias`(-0.43): \n",
    "   - Existe una relación negativa moderada con la tasa de abandono. Esto indica que los clientes que realizan más revisiones suelen tener menor probabilidad de churn.\n",
    "\n",
    "4. `Km_medio_por_revision` (-0.55)  \n",
    "   - Un coeficiente negativo elevado indica que a mayor número de kilómetros recorridos entre revisiones, menor es la tasa de abandono. Esto puede interpretarse como una mayor dependencia del cliente en los servicios del concesionario, reduciendo su probabilidad de churn.\n",
    "\n"
   ]
  },
  {
   "cell_type": "markdown",
   "id": "5d87b540",
   "metadata": {
    "papermill": {
     "duration": null,
     "end_time": null,
     "exception": null,
     "start_time": null,
     "status": "pending"
    },
    "tags": []
   },
   "source": [
    "## EDA"
   ]
  },
  {
   "cell_type": "markdown",
   "id": "1eae31a2",
   "metadata": {
    "papermill": {
     "duration": null,
     "end_time": null,
     "exception": null,
     "start_time": null,
     "status": "pending"
    },
    "tags": []
   },
   "source": [
    "**Histogramas**"
   ]
  },
  {
   "cell_type": "code",
   "execution_count": null,
   "id": "0b686b70",
   "metadata": {
    "papermill": {
     "duration": null,
     "end_time": null,
     "exception": null,
     "start_time": null,
     "status": "pending"
    },
    "tags": []
   },
   "outputs": [],
   "source": [
    "variables_seleccionadas = ['PVP', 'Edad_Media_Coche', 'Km_medio_por_revision', 'Revisiones_Medias']\n",
    "\n",
    "sns.set(style=\"whitegrid\")\n",
    "fig, axes = plt.subplots(2, 2, figsize=(12, 8))\n",
    "axes = axes.flatten()\n",
    "\n",
    "for i, var in enumerate(variables_seleccionadas):\n",
    "    sns.histplot(df_reg[var], bins=30, kde=True, ax=axes[i])\n",
    "    axes[i].set_title(f'Histograma de {var}')\n",
    "\n",
    "plt.tight_layout()\n",
    "plt.show()\n"
   ]
  },
  {
   "cell_type": "markdown",
   "id": "a15a078d",
   "metadata": {
    "papermill": {
     "duration": null,
     "end_time": null,
     "exception": null,
     "start_time": null,
     "status": "pending"
    },
    "tags": []
   },
   "source": [
    "*Puntos a recalcar*:\n",
    "- Los Km Medios  por Revisión en 0 sugieren que esos clientes no han realizado ninguna revisión en el concesionario."
   ]
  },
  {
   "cell_type": "markdown",
   "id": "1b0cb79b",
   "metadata": {
    "papermill": {
     "duration": null,
     "end_time": null,
     "exception": null,
     "start_time": null,
     "status": "pending"
    },
    "tags": []
   },
   "source": [
    "**Gráficos Dispersión**"
   ]
  },
  {
   "cell_type": "code",
   "execution_count": null,
   "id": "0374ea34",
   "metadata": {
    "papermill": {
     "duration": null,
     "end_time": null,
     "exception": null,
     "start_time": null,
     "status": "pending"
    },
    "tags": []
   },
   "outputs": [],
   "source": [
    "# Crear gráficos de dispersión entre churn_medio y las variables seleccionadas\n",
    "fig, axes = plt.subplots(2, 2, figsize=(12, 8))\n",
    "axes = axes.flatten()\n",
    "\n",
    "for i, var in enumerate(variables_seleccionadas):\n",
    "    sns.scatterplot(x=df_reg[var], y=df_reg['churn_medio'], alpha=0.5, ax=axes[i])\n",
    "    axes[i].set_title(f'Dispersión {var} vs churn_medio')\n",
    "\n",
    "plt.tight_layout()\n",
    "plt.show()"
   ]
  },
  {
   "cell_type": "markdown",
   "id": "be2e1d91",
   "metadata": {
    "papermill": {
     "duration": null,
     "end_time": null,
     "exception": null,
     "start_time": null,
     "status": "pending"
    },
    "tags": []
   },
   "source": [
    "*Puntos a Recalcar*\n",
    "- Kilómetros Medios por Revisión vs Churn:\n",
    "\n",
    "   - Hay una clara tendencia descendente, es decir, a medida que los clientes realizan más kilómetros antes de la revisión, el Churn Medio tiende a reducirse.\n",
    "\n",
    "   - Se observa que los clientes con Km_medio_por_revision cercanos a 0 tienen valores altos de Churn, lo que puede indicar que aquellos que no hacen revisiones son más propensos a abandonar.\n",
    "\n",
    "- Revisiones Medias vs Churn:\n",
    "   - Se observa que los clientes con pocas o ninguna revisión tienen una mayor dispersión en churn, mientras que los que han hecho revisiones presentan menor churn.\n",
    "\n",
    "- PVP y Edad_Media_Coche tienen una relación menos evidente, aunque pueden influir en combinación con otras variable\n",
    "\n"
   ]
  },
  {
   "cell_type": "markdown",
   "id": "41caaf22",
   "metadata": {
    "papermill": {
     "duration": null,
     "end_time": null,
     "exception": null,
     "start_time": null,
     "status": "pending"
    },
    "tags": []
   },
   "source": [
    "## Regresión Lineal"
   ]
  },
  {
   "cell_type": "markdown",
   "id": "b00d7dcf",
   "metadata": {
    "papermill": {
     "duration": null,
     "end_time": null,
     "exception": null,
     "start_time": null,
     "status": "pending"
    },
    "tags": []
   },
   "source": [
    "El objetivo de este análisis es entrenar regresiones lineales utilizando diferentes combinaciones de 4 variables para predecir la variable Churn Medio. Se selecciona la combinación con el **mayor R²**, ya que esto indica que el modelo explica mejor la variabilidad de la variable dependiente (Churn Medio)."
   ]
  },
  {
   "cell_type": "code",
   "execution_count": null,
   "id": "917a2516",
   "metadata": {
    "papermill": {
     "duration": null,
     "end_time": null,
     "exception": null,
     "start_time": null,
     "status": "pending"
    },
    "tags": []
   },
   "outputs": [],
   "source": [
    "# Variables candidatas\n",
    "variables = ['PVP', 'Numero_Compras', 'Edad_Media_Cliente', 'Edad_Media_Coche',\n",
    "       'Margen_Bruto_Medio', 'Margen_Eur_Medio', 'Coste_Total', 'Renta_Media',\n",
    "       'Km_medio_por_revision', 'Revisiones_Medias',\n",
    "       'Coste_Venta_No_Impuestos_Medio', 'Dias_En_Taller']\n",
    "\n",
    "objetivo = \"churn_medio\"\n",
    "resultados = []\n",
    "\n",
    "combinaciones = list(itertools.combinations(variables, 4))\n",
    "\n",
    "for vars_comb in combinaciones:\n",
    "    X = df_reg[list(vars_comb)]\n",
    "    y = df_reg[objetivo]\n",
    "\n",
    "    modelo = LinearRegression()\n",
    "    modelo.fit(X, y)\n",
    "    y_pred = modelo.predict(X)\n",
    "\n",
    "    r2 = r2_score(y, y_pred)\n",
    "    resultados.append((vars_comb, r2))\n",
    "\n",
    "# Mostrar las mejores combinaciones ordenadas por R²\n",
    "resultados.sort(key=lambda x: x[1], reverse=True)\n",
    "\n",
    "print(\"Ranking de combinaciones por R²:\\n\")\n",
    "for i, (vars_comb, r2) in enumerate(resultados[:5], 1):\n",
    "    print(f\"{i}. Variables: {vars_comb} → R²: {r2:.4f}\")\n"
   ]
  },
  {
   "cell_type": "markdown",
   "id": "0a6777b8",
   "metadata": {
    "papermill": {
     "duration": null,
     "end_time": null,
     "exception": null,
     "start_time": null,
     "status": "pending"
    },
    "tags": []
   },
   "source": [
    "**Selección mejor Regresión Lineal**"
   ]
  },
  {
   "cell_type": "markdown",
   "id": "ee7e5aa5",
   "metadata": {
    "papermill": {
     "duration": null,
     "end_time": null,
     "exception": null,
     "start_time": null,
     "status": "pending"
    },
    "tags": []
   },
   "source": [
    "Este código selecciona automáticamente la mejor combinación de 4 variables entre las posibles para predecir la variable dependiente churn_medio utilizando una regresión lineal"
   ]
  },
  {
   "cell_type": "code",
   "execution_count": null,
   "id": "eddc3b0e",
   "metadata": {
    "papermill": {
     "duration": null,
     "end_time": null,
     "exception": null,
     "start_time": null,
     "status": "pending"
    },
    "tags": []
   },
   "outputs": [],
   "source": [
    "# Lista de todas las variables posibles\n",
    "variables = ['PVP', 'Numero_Compras', 'Edad_Media_Cliente', 'Edad_Media_Coche',\n",
    "       'Margen_Bruto_Medio', 'Margen_Eur_Medio', 'Coste_Total', 'Renta_Media',\n",
    "       'Km_medio_por_revision', 'Revisiones_Medias',\n",
    "       'Coste_Venta_No_Impuestos_Medio', 'Dias_En_Taller']\n",
    "\n",
    "#Inicializar parámetros\n",
    "best_r2 = -1\n",
    "best_combination = None\n",
    "\n",
    "# Probar todas las combinaciones de 4 variables\n",
    "for comb in itertools.combinations(variables, 4):\n",
    "    X = df_reg[list(comb)]  \n",
    "    y = df_reg['churn_medio']  \n",
    "\n",
    "  \n",
    "    model = LinearRegression()\n",
    "    model.fit(X, y)\n",
    "\n",
    "    y_pred = model.predict(X)\n",
    "    r2 = r2_score(y, y_pred)\n",
    "\n",
    "    if r2 > best_r2:\n",
    "        best_r2 = r2\n",
    "        best_combination = comb\n",
    "\n",
    "\n",
    "\n",
    "print(\"Mejor combinación de variables:\", best_combination)\n",
    "print(\"Mejor R²:\", best_r2)"
   ]
  },
  {
   "cell_type": "markdown",
   "id": "a755b4f9",
   "metadata": {
    "papermill": {
     "duration": null,
     "end_time": null,
     "exception": null,
     "start_time": null,
     "status": "pending"
    },
    "tags": []
   },
   "source": [
    "**Entrenamiento del modelo**"
   ]
  },
  {
   "cell_type": "markdown",
   "id": "b30d7212",
   "metadata": {
    "papermill": {
     "duration": null,
     "end_time": null,
     "exception": null,
     "start_time": null,
     "status": "pending"
    },
    "tags": []
   },
   "source": [
    "A continuación, se va a expresar la variable `churn` en función de las variables seleccionadas en la regresión lineal. El modelo de regresión lineal tiene la siguiente forma:\n",
    "\n",
    "$\n",
    "\\text{churn} = \\text{intercepto} + a_1 \\cdot \\text{variable}_1 + a_2 \\cdot \\text{variable}_2 + a_3 \\cdot \\text{variable}_3 + a_4 \\cdot \\text{variable}_4\n",
    "$"
   ]
  },
  {
   "cell_type": "code",
   "execution_count": null,
   "id": "441103fa",
   "metadata": {
    "papermill": {
     "duration": null,
     "end_time": null,
     "exception": null,
     "start_time": null,
     "status": "pending"
    },
    "tags": []
   },
   "outputs": [],
   "source": [
    "X_best = df_reg[list(best_combination)]  # Variables con la mejor combinación\n",
    "y_best = df_reg['churn_medio']  \n",
    "\n",
    "model = LinearRegression()\n",
    "model.fit(X_best, y_best)\n",
    "\n",
    "# Mostrar los coeficientes y el intercepto del modelo\n",
    "coeficientes = model.coef_\n",
    "intercepto = model.intercept_\n",
    "\n",
    "print(\"Coeficientes:\")\n",
    "for i, col in enumerate(best_combination):\n",
    "    print(f\"{col}: {coeficientes[i]}\")\n",
    "\n",
    "print(f\"Intercepto: {intercepto}\")"
   ]
  },
  {
   "cell_type": "markdown",
   "id": "d48f67ac",
   "metadata": {
    "papermill": {
     "duration": null,
     "end_time": null,
     "exception": null,
     "start_time": null,
     "status": "pending"
    },
    "tags": []
   },
   "source": [
    "## Guardar los coeficientes Regresión SSMS"
   ]
  },
  {
   "cell_type": "markdown",
   "id": "3d8658bd",
   "metadata": {
    "papermill": {
     "duration": null,
     "end_time": null,
     "exception": null,
     "start_time": null,
     "status": "pending"
    },
    "tags": []
   },
   "source": [
    "Los coeficientes obtenidos en la regresión lineal se han almacenado en una tabla en SSMS.\n",
    "Esto permite que puedan ser utilizados posteriormente en cálculos como la estimación del Churn Medio, la Retención y el CLV,"
   ]
  },
  {
   "cell_type": "code",
   "execution_count": null,
   "id": "7d7a6362",
   "metadata": {
    "papermill": {
     "duration": null,
     "end_time": null,
     "exception": null,
     "start_time": null,
     "status": "pending"
    },
    "tags": []
   },
   "outputs": [],
   "source": [
    "# Conexión a SQL Server Local\n",
    "LOCAL_SERVER = 'localhost'  # Servidor local\n",
    "LOCAL_DATABASE = 'dwh_case1'  # Base de datos local\n",
    "LOCAL_DRIVER = '{ODBC Driver 17 for SQL Server}'\n",
    "\n",
    "# Cadena de conexión para SQL Server local\n",
    "local_conn_str = f\"DRIVER={LOCAL_DRIVER};SERVER={LOCAL_SERVER};DATABASE={LOCAL_DATABASE};Trusted_Connection=yes;TrustServerCertificate=yes\"\n",
    "\n",
    "# Conectar a SQL Server Local\n",
    "conn_local = pyodbc.connect(local_conn_str)\n",
    "cursor_local = conn_local.cursor()\n"
   ]
  },
  {
   "cell_type": "code",
   "execution_count": null,
   "id": "75d5a1c0",
   "metadata": {
    "papermill": {
     "duration": null,
     "end_time": null,
     "exception": null,
     "start_time": null,
     "status": "pending"
    },
    "tags": []
   },
   "outputs": [],
   "source": [
    "coeficientes = model.coef_\n",
    "intercepto = model.intercept_\n",
    "variables = best_combination\n",
    "\n",
    "# Crear DataFrame con resultados\n",
    "df_resultados = pd.DataFrame({\n",
    "    'Variable': list(variables) + ['Intercepto'],\n",
    "    'Valor': list(coeficientes) + [intercepto]\n",
    "})\n",
    "\n",
    "df_resultados"
   ]
  },
  {
   "cell_type": "code",
   "execution_count": null,
   "id": "0e53ca48",
   "metadata": {
    "papermill": {
     "duration": null,
     "end_time": null,
     "exception": null,
     "start_time": null,
     "status": "pending"
    },
    "tags": []
   },
   "outputs": [],
   "source": [
    "try:\n",
    "    conn_local = pyodbc.connect(local_conn_str)\n",
    "    cursor = conn_local.cursor()\n",
    "\n",
    "    # Eliminar tabla si ya existe\n",
    "    cursor.execute(\"DROP TABLE IF EXISTS Regresion_Coeficientes\")\n",
    "    conn_local.commit()\n",
    "\n",
    "    # Crear tabla\n",
    "    create_table_sql = \"\"\"\n",
    "    CREATE TABLE Regresion_Coeficientes (\n",
    "        Variable NVARCHAR(255),\n",
    "        Valor FLOAT\n",
    "    );\n",
    "    \"\"\"\n",
    "    cursor.execute(create_table_sql)\n",
    "    conn_local.commit()\n",
    "\n",
    "    # Insertar resultados\n",
    "    insert_sql = \"INSERT INTO Regresion_Coeficientes (Variable, Valor) VALUES (?, ?)\"\n",
    "    cursor.fast_executemany = True\n",
    "    cursor.executemany(insert_sql, df_resultados.values.tolist())\n",
    "    conn_local.commit()\n",
    "\n",
    "    print(\"✅ Tabla Regresion_Coeficientes creada e insertada correctamente.\")\n",
    "\n",
    "except Exception as e:\n",
    "    print(f\"❌ Error: {e}\")\n",
    "\n",
    "finally:\n",
    "    if 'conn_local' in locals():\n",
    "        conn_local.close()"
   ]
  },
  {
   "cell_type": "markdown",
   "id": "ab98cada",
   "metadata": {
    "papermill": {
     "duration": null,
     "end_time": null,
     "exception": null,
     "start_time": null,
     "status": "pending"
    },
    "tags": []
   },
   "source": [
    "# Tabla Final BI"
   ]
  },
  {
   "cell_type": "markdown",
   "id": "339cba30",
   "metadata": {
    "papermill": {
     "duration": null,
     "end_time": null,
     "exception": null,
     "start_time": null,
     "status": "pending"
    },
    "tags": []
   },
   "source": [
    "**Paso 1: Obtener los coeficientes de la regresión**\n",
    "\n",
    "Los coeficientes de la regresión lineal que hemos obtenido previamente se almacenan en la tabla Regresion_Coeficientes dentro de SQL Server. Estos coeficientes representan la relación entre las variables explicativas y la variable objetivo (`churn_medio`). Se extraen y se utilizan para calcular nuevas métricas.\n",
    "\n",
    "**Paso 2: Aplicación del Modelo a los Datos de Cliente**\n",
    "Usando los coeficientes obtenidos, aplicamos la ecuación de regresión a los datos de cada cliente en la tabla vision_cliente. En este proceso, se calculan:\n",
    "\n",
    "- Churn Medio Estimado: Probabilidad de que un cliente abandone.\n",
    "- Retención:1 -Churn.\n",
    "- CLV a 5 años: Estimación del valor económico de un cliente en el futuro.\n",
    "\n",
    "**Paso 3: Normalización de los Resultados**\n",
    "\n",
    "Dado que la regresión lineal puede generar valores fuera del rango [0,1], se aplica una transformación con las funciones `GREATEST(0, ...)` y `LEAST(1, ...)` para garantizar que los valores sean interpretables y realistas.\n",
    "\n",
    "**Paso 4: Creación de la Tabla bi_cliente**\n",
    "\n",
    "Los resultados obtenidos se almacenan en una nueva tabla llamada bi_cliente, la cual contiene todas las variables originales de vision_cliente junto con los nuevos cálculos (`churn_medio_estimado`, `retención` y `CLV_5_anos`). Esta tabla permite analizar el comportamiento de los clientes y su valor futuro.\n",
    "\n",
    "**Interpretación Clave**\n",
    "\n",
    "- Como hemos tenido que ajustar los datos como comentamos,no nos debe extrañar que haya algunos valores de CLV=0.Puesto que, aquellos valroes cuya retención sea <0 (transformados a 0) nos darán CLV nulo.\n",
    "\n",
    "- También es importante recalcar que aquellos CLV<0 están asociados a aquellos clientes con los cuales la marca de coches esté perdidiendo ya dinero directamente() Margen_eur de estos es <0)\n"
   ]
  },
  {
   "cell_type": "code",
   "execution_count": null,
   "id": "bb4362d2",
   "metadata": {
    "papermill": {
     "duration": null,
     "end_time": null,
     "exception": null,
     "start_time": null,
     "status": "pending"
    },
    "tags": []
   },
   "outputs": [],
   "source": [
    "# Conexión SQL Server Local\n",
    "LOCAL_SERVER = 'localhost'\n",
    "LOCAL_DATABASE = 'dwh_case1'\n",
    "LOCAL_DRIVER = '{ODBC Driver 17 for SQL Server}'\n",
    "local_conn_str = f\"DRIVER={LOCAL_DRIVER};SERVER={LOCAL_SERVER};DATABASE={LOCAL_DATABASE};Trusted_Connection=yes;TrustServerCertificate=yes\"\n",
    "\n",
    "# Conectar a la base de datos\n",
    "conn_local = pyodbc.connect(local_conn_str)\n",
    "cursor_local = conn_local.cursor()\n",
    "\n",
    "# Obtener coeficientes de la regresión desde SQL Server\n",
    "query_coef = \"\"\"\n",
    "SELECT \n",
    "    MAX(CASE WHEN Variable = 'Intercepto' THEN Valor END) AS b0,\n",
    "    MAX(CASE WHEN Variable = 'PVP' THEN Valor END) AS b1,\n",
    "    MAX(CASE WHEN Variable = 'Edad_Media_Coche' THEN Valor END) AS b2,\n",
    "    MAX(CASE WHEN Variable = 'Km_medio_por_revision' THEN Valor END) AS b3,\n",
    "    MAX(CASE WHEN Variable = 'Revisiones_Medias' THEN Valor END) AS b4\n",
    "FROM [dwh_case1].[dbo].[Regresion_Coeficientes];\n",
    "\"\"\"\n",
    "\n",
    "cursor_local.execute(query_coef)\n",
    "coeficientes = cursor_local.fetchone()\n",
    "cursor_local.close() \n",
    "\n",
    "# Validar si se encontraron coeficientes\n",
    "if coeficientes is None or None in coeficientes:\n",
    "    print(\"Error: No se encontraron coeficientes válidos en la tabla 'Regresion_Coeficientes'.\")\n",
    "    conn_local.close()\n",
    "    exit()\n",
    "\n",
    "b0, b1, b2, b3, b4 = coeficientes  # Extraer valores numéricos\n",
    "\n",
    "# Ejecutar la consulta principal\n",
    "query = f\"\"\"\n",
    "SELECT \n",
    "    vc.*, \n",
    "    -- Churn y retención limitados entre [0,1]\n",
    "    GREATEST(0, LEAST(1, ({b0} + {b1} * vc.PVP_Medio + {b2} * vc.Edad_Media_Coche \n",
    "        + {b3} * vc.Km_Medio_por_Revision + {b4} * vc.Total_Revisiones))) AS churn_medio_estimado,\n",
    "\n",
    "    GREATEST(0, LEAST(1, (1 - ({b0} + {b1} * vc.PVP_Medio + {b2} * vc.Edad_Media_Coche \n",
    "        + {b3} * vc.Km_Medio_por_Revision + {b4} * vc.Total_Revisiones)))) AS retencion,\n",
    "\n",
    "    -- CLV a 5 años\n",
    "    vc.Margen_eur_Medio * (\n",
    "        POWER(GREATEST(0, LEAST(1, 1 - ({b0} + {b1} * vc.PVP_Medio + {b2} * vc.Edad_Media_Coche \n",
    "        + {b3} * vc.Km_Medio_por_Revision + {b4} * vc.Total_Revisiones))), 1) / POWER(1.07, 1) +\n",
    "        POWER(GREATEST(0, LEAST(1, 1 - ({b0} + {b1} * vc.PVP_Medio + {b2} * vc.Edad_Media_Coche \n",
    "        + {b3} * vc.Km_Medio_por_Revision + {b4} * vc.Total_Revisiones))), 2) / POWER(1.07, 2) +\n",
    "        POWER(GREATEST(0, LEAST(1, 1 - ({b0} + {b1} * vc.PVP_Medio + {b2} * vc.Edad_Media_Coche \n",
    "        + {b3} * vc.Km_Medio_por_Revision + {b4} * vc.Total_Revisiones))), 3) / POWER(1.07, 3) +\n",
    "        POWER(GREATEST(0, LEAST(1, 1 - ({b0} + {b1} * vc.PVP_Medio + {b2} * vc.Edad_Media_Coche \n",
    "        + {b3} * vc.Km_Medio_por_Revision + {b4} * vc.Total_Revisiones))), 4) / POWER(1.07, 4) +\n",
    "        POWER(GREATEST(0, LEAST(1, 1 - ({b0} + {b1} * vc.PVP_Medio + {b2} * vc.Edad_Media_Coche \n",
    "        + {b3} * vc.Km_Medio_por_Revision + {b4} * vc.Total_Revisiones))), 5) / POWER(1.07, 5)\n",
    "    ) AS CLV_5_anos\n",
    "FROM dwh_case1.dbo.vision_cliente vc;\n",
    "\"\"\"\n",
    "\n",
    "df = pd.read_sql(query, conn_local)\n",
    "\n",
    "# Eliminar la columna 'churn_medio' si existe en el DataFrame\n",
    "if 'Churn_Cliente' in df.columns:\n",
    "    df = df.drop(columns=['Churn_Cliente'])\n",
    "\n",
    "\n",
    "# Crear la tabla 'bi_cliente' en SQL Server Local (eliminar si existe)\n",
    "cursor_local = conn_local.cursor()\n",
    "cursor_local.execute(\"DROP TABLE IF EXISTS bi_cliente\")\n",
    "conn_local.commit()\n",
    "\n",
    "# Crear la tabla con los tipos de datos correctos\n",
    "create_table_sql = f\"\"\"\n",
    "CREATE TABLE bi_cliente (\n",
    "    {', '.join([\n",
    "        f'[{col}] FLOAT' if df[col].dtype == 'float32'\n",
    "        else f'[{col}] INT' if df[col].dtype == 'int32'\n",
    "        else f'[{col}] NVARCHAR(255)' for col in df.columns\n",
    "    ])}\n",
    ");\n",
    "\"\"\"\n",
    "cursor_local.execute(create_table_sql)\n",
    "conn_local.commit()\n",
    "\n",
    "print(\"\\n- Tabla 'bi_cliente' creada correctamente en SQL Server Local.\")\n",
    "\n",
    "# Insertar los datos en la tabla\n",
    "placeholders = ', '.join(['?' for _ in df.columns])\n",
    "insert_sql = f\"INSERT INTO bi_cliente VALUES ({placeholders})\"\n",
    "\n",
    "cursor_local.fast_executemany = True\n",
    "cursor_local.executemany(insert_sql, df.values.tolist())\n",
    "conn_local.commit()\n",
    "\n",
    "# Mostrar resumen final\n",
    "print(\"\\nTabla: bi_cliente\")\n",
    "print(f\" Columnas extraídas: {df.shape[1]}\")\n",
    "print(f\" Filas extraídas: {df.shape[0]}\")\n",
    "print(\" Tabla eliminada (si existía): Sí\")\n",
    "print(\" Tabla creada: Sí\")\n",
    "print(f\" Filas insertadas: {df.shape[0]}\")\n",
    "\n",
    "# Cerrar conexiones\n",
    "cursor_local.close()\n",
    "conn_local.close()\n",
    "\n",
    "print(\"\\nDatos extraídos, guardados y cargados en SQL Server correctamente.\")\n"
   ]
  },
  {
   "cell_type": "code",
   "execution_count": null,
   "id": "70673dd4",
   "metadata": {
    "papermill": {
     "duration": null,
     "end_time": null,
     "exception": null,
     "start_time": null,
     "status": "pending"
    },
    "tags": []
   },
   "outputs": [],
   "source": [
    "if 'Churn_Cliente' in df.columns:\n",
    "    df = df.drop(columns=['Churn_Cliente'])\n",
    "\n",
    "df.to_csv(\"cliente_bi.csv\", index=False, encoding='utf-8')"
   ]
  }
 ],
 "metadata": {
  "kernelspec": {
   "display_name": "Python 3",
   "language": "python",
   "name": "python3"
  },
  "language_info": {
   "codemirror_mode": {
    "name": "ipython",
    "version": 3
   },
   "file_extension": ".py",
   "mimetype": "text/x-python",
   "name": "python",
   "nbconvert_exporter": "python",
   "pygments_lexer": "ipython3",
   "version": "3.12.6"
  },
  "papermill": {
   "default_parameters": {},
   "duration": 2.005348,
   "end_time": "2025-03-28T17:35:12.302345",
   "environment_variables": {},
   "exception": true,
   "input_path": "/Users/martinagarciagonzalez/gd_clv-14/etl/03_regresion_cliente.ipynb",
   "output_path": "/Users/martinagarciagonzalez/gd_clv-14/etl/03_regresion_cliente_output.ipynb",
   "parameters": {},
   "start_time": "2025-03-28T17:35:10.296997",
   "version": "2.6.0"
  }
 },
 "nbformat": 4,
 "nbformat_minor": 5
}